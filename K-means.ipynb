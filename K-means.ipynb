{
 "cells": [
  {
   "cell_type": "code",
   "execution_count": 2,
   "metadata": {},
   "outputs": [],
   "source": [
    "import numpy as np\n",
    "%matplotlib inline\n",
    "import matplotlib.pyplot as plt"
   ]
  },
  {
   "cell_type": "markdown",
   "metadata": {},
   "source": [
    "# Функции инициализации центроидов"
   ]
  },
  {
   "cell_type": "code",
   "execution_count": 46,
   "metadata": {},
   "outputs": [],
   "source": [
    "def rand_u_init(data, k):\n",
    "    # just random initialization\n",
    "    # suppose data - np.array\n",
    "    return np.random.rand(k, data.shape[1]) * np.amax(data);"
   ]
  },
  {
   "cell_type": "code",
   "execution_count": 90,
   "metadata": {},
   "outputs": [],
   "source": [
    "def distinct_points_init(data, k):\n",
    "    # a <= x <= b \n",
    "    # c <= y <= d\n",
    "    a, b = np.min(data[:, 0]), np.max(data[:, 0])\n",
    "    c, d = np.min(data[:, 1]), np.max(data[:, 1])\n",
    "    w = int(np.ceil(np.sqrt(k)))\n",
    "    x = np.tile(np.linspace(a, b, w), w)\n",
    "    y = np.tile(np.linspace(c, d, w), w)\n",
    "    res = np.concatenate((x[:k, np.newaxis], y[:k, np.newaxis]), axis = 1)\n",
    "    return res"
   ]
  },
  {
   "cell_type": "markdown",
   "metadata": {},
   "source": [
    "# K-means model"
   ]
  },
  {
   "cell_type": "code",
   "execution_count": 103,
   "metadata": {},
   "outputs": [],
   "source": [
    "class KMeans:\n",
    "    '''\n",
    "    K-means divide points onto k clasters,\n",
    "    where interclaster distance is minimized\n",
    "    \n",
    "    init:\n",
    "    k - number of clasters\n",
    "    u_init(data, k) - function, that initialize centroids\n",
    "                      rand_u_init by default\n",
    "                      \n",
    "    fit:\n",
    "    data - 2d array, points to clasterize\n",
    "    t - number of iterations\n",
    "    '''\n",
    "    def __init__(self, k, u_init=rand_u_init):\n",
    "        self.k = k # number of clasters\n",
    "        self.u_init = u_init\n",
    "        self.hist = []\n",
    "        \n",
    "    def fit(self, data, t=100):\n",
    "        # suppose data is np.array\n",
    "        # length - number of points\n",
    "        # n - number of dimensions\n",
    "        length, n = data.shape\n",
    "        u = self.u_init(data, self.k)\n",
    "        self.hist = []\n",
    "        for i in range(t):\n",
    "            # calculate claster using centroids\n",
    "            c = {i : [] for i in range(self.k)}\n",
    "            loss = 0\n",
    "            for p in range(length):\n",
    "                x = data[p]\n",
    "                dist = np.sum(np.power(x - u, 2), axis=1)\n",
    "                nearest_u = np.argmin(dist)\n",
    "                loss += np.min(dist)\n",
    "                c[nearest_u].append(x)\n",
    "            # recalculate centroids\n",
    "            for i in range(self.k):\n",
    "                l = len(c[i])\n",
    "                if l == 0:\n",
    "                    continue\n",
    "                u[i] = sum(c[i]) / l\n",
    "        # return centroids and clasters\n",
    "        return (u, c)"
   ]
  },
  {
   "cell_type": "markdown",
   "metadata": {},
   "source": [
    "# Testing"
   ]
  },
  {
   "cell_type": "markdown",
   "metadata": {},
   "source": [
    "3 кучи с нормальным распределением, небольшой дисбаланс"
   ]
  },
  {
   "cell_type": "code",
   "execution_count": 104,
   "metadata": {},
   "outputs": [
    {
     "data": {
      "text/plain": [
       "(350, 2)"
      ]
     },
     "execution_count": 104,
     "metadata": {},
     "output_type": "execute_result"
    }
   ],
   "source": [
    "x1 = np.random.normal(size=(50, 2))*3\n",
    "x2 = np.random.normal(size=(100, 2))*2 + 10\n",
    "x3 = np.random.normal(size=(200, 2)) + 15\n",
    "x = np.concatenate((x1, x2, x3))\n",
    "x.shape"
   ]
  },
  {
   "cell_type": "code",
   "execution_count": 105,
   "metadata": {},
   "outputs": [
    {
     "data": {
      "text/plain": [
       "<matplotlib.collections.PathCollection at 0x2285918ca08>"
      ]
     },
     "execution_count": 105,
     "metadata": {},
     "output_type": "execute_result"
    },
    {
     "data": {
      "image/png": "[encoded data removed]",
      "text/plain": [
       "<Figure size 432x288 with 1 Axes>"
      ]
     },
     "metadata": {
      "needs_background": "light"
     },
     "output_type": "display_data"
    }
   ],
   "source": [
    "plt.scatter(x[:, 0],x[:, 1])"
   ]
  },
  {
   "cell_type": "markdown",
   "metadata": {},
   "source": [
    "случайный инициализатор"
   ]
  },
  {
   "cell_type": "code",
   "execution_count": 106,
   "metadata": {},
   "outputs": [],
   "source": [
    "model = KMeans(3)\n",
    "c = model.fit(x)"
   ]
  },
  {
   "cell_type": "code",
   "execution_count": 107,
   "metadata": {},
   "outputs": [
    {
     "data": {
      "image/png": "[encoded data removed]",
      "text/plain": [
       "<Figure size 432x288 with 1 Axes>"
      ]
     },
     "metadata": {
      "needs_background": "light"
     },
     "output_type": "display_data"
    }
   ],
   "source": [
    "res = [np.array(i) for i in c[1].values()]\n",
    "for i, claster in enumerate(res):\n",
    "    plt.scatter(claster[:,0],claster[:,1])\n",
    "for i in range(3):\n",
    "    plt.scatter(c[0][i,0], c[0][i, 1], marker='x', color='red')"
   ]
  },
  {
   "cell_type": "code",
   "execution_count": 108,
   "metadata": {},
   "outputs": [
    {
     "data": {
      "text/plain": [
       "array([[-5.7686344 , -4.96271478],\n",
       "       [17.95847601, 17.06081717],\n",
       "       [-5.7686344 , -4.96271478]])"
      ]
     },
     "execution_count": 108,
     "metadata": {},
     "output_type": "execute_result"
    }
   ],
   "source": [
    "distinct_points_init(x, 3)"
   ]
  },
  {
   "cell_type": "markdown",
   "metadata": {},
   "source": [
    "k достаточно удалённых точек"
   ]
  },
  {
   "cell_type": "code",
   "execution_count": 109,
   "metadata": {},
   "outputs": [],
   "source": [
    "model = KMeans(3, distinct_points_init)\n",
    "c = model.fit(x)"
   ]
  },
  {
   "cell_type": "code",
   "execution_count": 110,
   "metadata": {},
   "outputs": [
    {
     "data": {
      "image/png": "[encoded data removed]",
      "text/plain": [
       "<Figure size 432x288 with 1 Axes>"
      ]
     },
     "metadata": {
      "needs_background": "light"
     },
     "output_type": "display_data"
    }
   ],
   "source": [
    "res = [np.array(i) for i in c[1].values()]\n",
    "for i, claster in enumerate(res):\n",
    "    plt.scatter(claster[:,0],claster[:,1])\n",
    "for i in range(3):\n",
    "    plt.scatter(c[0][i,0], c[0][i, 1], marker='x', color='red')"
   ]
  },
  {
   "cell_type": "markdown",
   "metadata": {},
   "source": [
    "Плохие данные"
   ]
  },
  {
   "cell_type": "code",
   "execution_count": null,
   "metadata": {},
   "outputs": [],
   "source": []
  },
  {
   "cell_type": "code",
   "execution_count": null,
   "metadata": {},
   "outputs": [],
   "source": []
  },
  {
   "cell_type": "code",
   "execution_count": null,
   "metadata": {},
   "outputs": [],
   "source": []
  }
 ],
 "metadata": {
  "kernelspec": {
   "display_name": "Python 3",
   "language": "python",
   "name": "python3"
  },
  "language_info": {
   "codemirror_mode": {
    "name": "ipython",
    "version": 3
   },
   "file_extension": ".py",
   "mimetype": "text/x-python",
   "name": "python",
   "nbconvert_exporter": "python",
   "pygments_lexer": "ipython3",
   "version": "3.7.6"
  }
 },
 "nbformat": 4,
 "nbformat_minor": 4
}

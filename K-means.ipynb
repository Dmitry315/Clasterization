{
 "cells": [
  {
   "cell_type": "code",
   "execution_count": 2,
   "metadata": {},
   "outputs": [],
   "source": [
    "import numpy as np\n",
    "%matplotlib inline\n",
    "import matplotlib.pyplot as plt"
   ]
  },
  {
   "cell_type": "code",
   "execution_count": null,
   "metadata": {},
   "outputs": [],
   "source": [
    "def rand_u_init(data, k):\n",
    "    # just random initialization\n",
    "    # suppose data - np.array\n",
    "    return np.rand(k, data.shape[1]) * np.amax(data);"
   ]
  },
  {
   "cell_type": "code",
   "execution_count": null,
   "metadata": {},
   "outputs": [],
   "source": [
    "class KMeans:\n",
    "    '''\n",
    "    K-means divide points onto k clasters,\n",
    "    where interclaster distance is minimized\n",
    "    \n",
    "    k - int, number of clasters\n",
    "    u_init(data, k) - function, that initialize centroids\n",
    "                      rand_u_init by default\n",
    "    delta - minimal \n",
    "    patience - how many iterations we can wait until\n",
    "               d_loss < delta\n",
    "    t - number of iterations\n",
    "    '''\n",
    "    def __init__(self, k, u_init=rand_u_init, delta = 0, patience = 0, t = 1000):\n",
    "        self.k = k # number of clasters\n",
    "        self.u_init = u_init\n",
    "        \n",
    "    def fit(self, data)\n",
    "        # suppose data is np.array\n",
    "        # length - number of points\n",
    "        # n - number of dimensions\n",
    "        length, n = data.shape\n",
    "        u = self.u_init(data, k)\n",
    "        C = {i : [] for i in range(k)}\n",
    "        # main cycle"
   ]
  },
  {
   "cell_type": "code",
   "execution_count": null,
   "metadata": {},
   "outputs": [],
   "source": [
    "def k_mean(data, k, points_initializer):\n",
    "    \n",
    "    \n",
    "    \n",
    "    "
   ]
  }
 ],
 "metadata": {
  "kernelspec": {
   "display_name": "Python 3",
   "language": "python",
   "name": "python3"
  },
  "language_info": {
   "codemirror_mode": {
    "name": "ipython",
    "version": 3
   },
   "file_extension": ".py",
   "mimetype": "text/x-python",
   "name": "python",
   "nbconvert_exporter": "python",
   "pygments_lexer": "ipython3",
   "version": "3.7.6"
  }
 },
 "nbformat": 4,
 "nbformat_minor": 4
}
